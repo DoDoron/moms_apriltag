{
 "cells": [
  {
   "cell_type": "markdown",
   "id": "44ceeed7-a11f-43c6-9809-d1b69f21b32c",
   "metadata": {},
   "source": [
    "![](../header.jpg)\n",
    "\n",
    "# Decoding Gen 2 Tags with `cv2.aruco`"
   ]
  },
  {
   "cell_type": "code",
   "execution_count": 1,
   "id": "3132a3e7-5d6b-49d4-b1a5-c7a5afba2c85",
   "metadata": {},
   "outputs": [],
   "source": [
    "import numpy as np\n",
    "import cv2\n",
    "from cv2 import aruco\n",
    "from matplotlib import pyplot as plt\n",
    "from moms_apriltag import TagGenerator2"
   ]
  },
  {
   "cell_type": "code",
   "execution_count": 2,
   "id": "1ce3bc6f-f2ab-439c-84bb-031ecfef7869",
   "metadata": {},
   "outputs": [
    {
     "data": {
      "image/png": "[encoded data removed]",
      "text/plain": [
       "<Figure size 640x480 with 1 Axes>"
      ]
     },
     "metadata": {},
     "output_type": "display_data"
    }
   ],
   "source": [
    "tg = TagGenerator2(\"tag36h11\")\n",
    "tag = tg.generate(4, scale=3)\n",
    "r,c = tag.shape\n",
    "im = 255*np.ones((2*r,2*c),dtype=np.uint8)\n",
    "im[10:10+r,10:10+c] = tag\n",
    "\n",
    "plt.imshow(im, cmap=\"gray\");\n",
    "# plt.axis(\"off\");"
   ]
  },
  {
   "cell_type": "code",
   "execution_count": 3,
   "id": "27dad9bb-43fc-4098-a5a1-0572e9473e04",
   "metadata": {},
   "outputs": [
    {
     "name": "stdout",
     "output_type": "stream",
     "text": [
      "[[4]]\n",
      "(array([[[33., 33.],\n",
      "        [10., 33.],\n",
      "        [10., 10.],\n",
      "        [33., 10.]]], dtype=float32),)\n"
     ]
    }
   ],
   "source": [
    "corners, ids, rejectedImgPts = aruco.detectMarkers(\n",
    "    im,\n",
    "    aruco.Dictionary_get(aruco.DICT_APRILTAG_36h11), \n",
    "    parameters=aruco.DetectorParameters_create()\n",
    ")\n",
    "\n",
    "print(ids)\n",
    "print(corners)"
   ]
  },
  {
   "cell_type": "code",
   "execution_count": null,
   "id": "31b3c9b8-4750-4e09-a271-14987cce55f8",
   "metadata": {},
   "outputs": [],
   "source": []
  }
 ],
 "metadata": {
  "kernelspec": {
   "display_name": "Python 3 (ipykernel)",
   "language": "python",
   "name": "python3"
  },
  "language_info": {
   "codemirror_mode": {
    "name": "ipython",
    "version": 3
   },
   "file_extension": ".py",
   "mimetype": "text/x-python",
   "name": "python",
   "nbconvert_exporter": "python",
   "pygments_lexer": "ipython3",
   "version": "3.10.9"
  }
 },
 "nbformat": 4,
 "nbformat_minor": 5
}
